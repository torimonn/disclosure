{
 "cells": [
  {
   "cell_type": "markdown",
   "metadata": {
    "id": "view-in-github",
    "colab_type": "text"
   },
   "source": [
    "<a href=\"https://colab.research.google.com/github/torimonn/disclosure/blob/main/main_extraction.ipynb\" target=\"_parent\"><img src=\"https://colab.research.google.com/assets/colab-badge.svg\" alt=\"Open In Colab\"/></a>"
   ]
  },
  {
   "cell_type": "markdown",
   "metadata": {
    "id": "690de4C0jDi3"
   },
   "source": [
    "# 財務諸表抽出ノートブック\n",
    "このノートブックでは、Google Generative AI (Gemini) を用いてPDFから\n",
    "貸借対照表と損益計算書を抽出し、CSVとして保存する処理を解説付きで実行します。"
   ],
   "id": "690de4C0jDi3"
  },
  {
   "cell_type": "markdown",
   "metadata": {
    "id": "9ZLp438ojDi6"
   },
   "source": [
    "## 必要なライブラリのインストールとインポート\n",
    "Colab 環境では下記のようにライブラリをインストールしてから実行してください。"
   ],
   "id": "9ZLp438ojDi6"
  },
  {
   "cell_type": "code",
   "metadata": {
    "colab": {
     "base_uri": "https://localhost:8080/"
    },
    "id": "IzzARyvhjDi6",
    "outputId": "224b952a-4f96-4b1b-b965-484ffa7ac049"
   },
   "source": [
    "!pip install -qU google-genai pydantic pypdf pandas"
   ],
   "execution_count": 1,
   "outputs": [
    {
     "output_type": "stream",
     "name": "stdout",
     "text": [
      "\u001b[2K     \u001b[90m━━━━━━━━━━━━━━━━━━━━━━━━━━━━━━━━━━━━━━━\u001b[0m \u001b[32m91.2/91.2 kB\u001b[0m \u001b[31m852.1 kB/s\u001b[0m eta \u001b[36m0:00:00\u001b[0m\n",
      "\u001b[2K   \u001b[90m━━━━━━━━━━━━━━━━━━━━━━━━━━━━━━━━━━━━━━━━\u001b[0m \u001b[32m200.0/200.0 kB\u001b[0m \u001b[31m4.2 MB/s\u001b[0m eta \u001b[36m0:00:00\u001b[0m\n",
      "\u001b[2K   \u001b[90m━━━━━━━━━━━━━━━━━━━━━━━━━━━━━━━━━━━━━━━━\u001b[0m \u001b[32m304.2/304.2 kB\u001b[0m \u001b[31m7.3 MB/s\u001b[0m eta \u001b[36m0:00:00\u001b[0m\n",
      "\u001b[2K   \u001b[90m━━━━━━━━━━━━━━━━━━━━━━━━━━━━━━━━━━━━━━━━\u001b[0m \u001b[32m12.4/12.4 MB\u001b[0m \u001b[31m23.3 MB/s\u001b[0m eta \u001b[36m0:00:00\u001b[0m\n",
      "\u001b[?25h\u001b[31mERROR: pip's dependency resolver does not currently take into account all the packages that are installed. This behaviour is the source of the following dependency conflicts.\n",
      "google-colab 1.0.0 requires pandas==2.2.2, but you have pandas 2.3.0 which is incompatible.\n",
      "dask-cudf-cu12 25.2.2 requires pandas<2.2.4dev0,>=2.0, but you have pandas 2.3.0 which is incompatible.\n",
      "cudf-cu12 25.2.1 requires pandas<2.2.4dev0,>=2.0, but you have pandas 2.3.0 which is incompatible.\u001b[0m\u001b[31m\n",
      "\u001b[0m"
     ]
    }
   ],
   "id": "IzzARyvhjDi6"
  },
  {
   "cell_type": "code",
   "metadata": {
    "colab": {
     "base_uri": "https://localhost:8080/"
    },
    "id": "SqZfXY8qjDi7",
    "outputId": "7f4b12a8-c49e-468e-c659-a38ad02040ad"
   },
   "source": [
    "import os\n",
    "import json\n",
    "import time\n",
    "from datetime import date\n",
    "from typing import List, Optional, Union\n",
    "\n",
    "from google.colab import userdata\n",
    "import google.colab.files  # PDF アップロード用\n",
    "import google.generativeai as genai\n",
    "from pydantic import BaseModel, Field, ValidationError\n",
    "from pypdf import PdfReader\n",
    "import pandas as pd\n",
    "\n",
    "try:\n",
    "    google_api_key = userdata.get('GOOGLE_API_KEY')\n",
    "    genai.configure(api_key=google_api_key)\n",
    "    print('APIキーの設定が完了しました。')\n",
    "except userdata.SecretNotFoundError as e:\n",
    "    print(f\"エラー: Colab Secrets に 'GOOGLE_API_KEY' が見つかりません: {e}\")\n",
    "    print(\"Google Colab の Secrets に 'GOOGLE_API_KEY' を設定してください。\")\n",
    "    raise SystemExit\n",
    "except Exception as e:\n",
    "    print(f'APIキー設定中に予期せぬエラーが発生しました: {e}')\n",
    "    raise SystemExit\n"
   ],
   "execution_count": 2,
   "outputs": [
    {
     "output_type": "stream",
     "name": "stdout",
     "text": [
      "APIキーの設定が完了しました。\n"
     ]
    }
   ],
   "id": "SqZfXY8qjDi7"
  },
  {
   "cell_type": "markdown",
   "metadata": {
    "id": "mBlvL5tFjDi7"
   },
   "source": [
    "### PDFファイルのアップロード\n",
    "以下のセルを実行するとファイル選択ダイアログが表示されます。処理したいPDFを1枚以上アップロードしてください。"
   ],
   "id": "mBlvL5tFjDi7"
  },
  {
   "cell_type": "code",
   "metadata": {
    "colab": {
     "base_uri": "https://localhost:8080/",
     "height": 232
    },
    "id": "sDxx5lXCjDi7",
    "outputId": "83931bea-d437-4e59-f550-eef3ccc159ad"
   },
   "execution_count": 3,
   "outputs": [
    {
     "output_type": "display_data",
     "data": {
      "text/plain": [
       "<IPython.core.display.HTML object>"
      ],
      "text/html": [
       "\n",
       "     <input type=\"file\" id=\"files-b7e337bf-fdf8-4cf8-9f9b-2f8ee894c75c\" name=\"files[]\" multiple disabled\n",
       "        style=\"border:none\" />\n",
       "     <output id=\"result-b7e337bf-fdf8-4cf8-9f9b-2f8ee894c75c\">\n",
       "      Upload widget is only available when the cell has been executed in the\n",
       "      current browser session. Please rerun this cell to enable.\n",
       "      </output>\n",
       "      <script>// Copyright 2017 Google LLC\n",
       "//\n",
       "// Licensed under the Apache License, Version 2.0 (the \"License\");\n",
       "// you may not use this file except in compliance with the License.\n",
       "// You may obtain a copy of the License at\n",
       "//\n",
       "//      http://www.apache.org/licenses/LICENSE-2.0\n",
       "//\n",
       "// Unless required by applicable law or agreed to in writing, software\n",
       "// distributed under the License is distributed on an \"AS IS\" BASIS,\n",
       "// WITHOUT WARRANTIES OR CONDITIONS OF ANY KIND, either express or implied.\n",
       "// See the License for the specific language governing permissions and\n",
       "// limitations under the License.\n",
       "\n",
       "/**\n",
       " * @fileoverview Helpers for google.colab Python module.\n",
       " */\n",
       "(function(scope) {\n",
       "function span(text, styleAttributes = {}) {\n",
       "  const element = document.createElement('span');\n",
       "  element.textContent = text;\n",
       "  for (const key of Object.keys(styleAttributes)) {\n",
       "    element.style[key] = styleAttributes[key];\n",
       "  }\n",
       "  return element;\n",
       "}\n",
       "\n",
       "// Max number of bytes which will be uploaded at a time.\n",
       "const MAX_PAYLOAD_SIZE = 100 * 1024;\n",
       "\n",
       "function _uploadFiles(inputId, outputId) {\n",
       "  const steps = uploadFilesStep(inputId, outputId);\n",
       "  const outputElement = document.getElementById(outputId);\n",
       "  // Cache steps on the outputElement to make it available for the next call\n",
       "  // to uploadFilesContinue from Python.\n",
       "  outputElement.steps = steps;\n",
       "\n",
       "  return _uploadFilesContinue(outputId);\n",
       "}\n",
       "\n",
       "// This is roughly an async generator (not supported in the browser yet),\n",
       "// where there are multiple asynchronous steps and the Python side is going\n",
       "// to poll for completion of each step.\n",
       "// This uses a Promise to block the python side on completion of each step,\n",
       "// then passes the result of the previous step as the input to the next step.\n",
       "function _uploadFilesContinue(outputId) {\n",
       "  const outputElement = document.getElementById(outputId);\n",
       "  const steps = outputElement.steps;\n",
       "\n",
       "  const next = steps.next(outputElement.lastPromiseValue);\n",
       "  return Promise.resolve(next.value.promise).then((value) => {\n",
       "    // Cache the last promise value to make it available to the next\n",
       "    // step of the generator.\n",
       "    outputElement.lastPromiseValue = value;\n",
       "    return next.value.response;\n",
       "  });\n",
       "}\n",
       "\n",
       "/**\n",
       " * Generator function which is called between each async step of the upload\n",
       " * process.\n",
       " * @param {string} inputId Element ID of the input file picker element.\n",
       " * @param {string} outputId Element ID of the output display.\n",
       " * @return {!Iterable<!Object>} Iterable of next steps.\n",
       " */\n",
       "function* uploadFilesStep(inputId, outputId) {\n",
       "  const inputElement = document.getElementById(inputId);\n",
       "  inputElement.disabled = false;\n",
       "\n",
       "  const outputElement = document.getElementById(outputId);\n",
       "  outputElement.innerHTML = '';\n",
       "\n",
       "  const pickedPromise = new Promise((resolve) => {\n",
       "    inputElement.addEventListener('change', (e) => {\n",
       "      resolve(e.target.files);\n",
       "    });\n",
       "  });\n",
       "\n",
       "  const cancel = document.createElement('button');\n",
       "  inputElement.parentElement.appendChild(cancel);\n",
       "  cancel.textContent = 'Cancel upload';\n",
       "  const cancelPromise = new Promise((resolve) => {\n",
       "    cancel.onclick = () => {\n",
       "      resolve(null);\n",
       "    };\n",
       "  });\n",
       "\n",
       "  // Wait for the user to pick the files.\n",
       "  const files = yield {\n",
       "    promise: Promise.race([pickedPromise, cancelPromise]),\n",
       "    response: {\n",
       "      action: 'starting',\n",
       "    }\n",
       "  };\n",
       "\n",
       "  cancel.remove();\n",
       "\n",
       "  // Disable the input element since further picks are not allowed.\n",
       "  inputElement.disabled = true;\n",
       "\n",
       "  if (!files) {\n",
       "    return {\n",
       "      response: {\n",
       "        action: 'complete',\n",
       "      }\n",
       "    };\n",
       "  }\n",
       "\n",
       "  for (const file of files) {\n",
       "    const li = document.createElement('li');\n",
       "    li.append(span(file.name, {fontWeight: 'bold'}));\n",
       "    li.append(span(\n",
       "        `(${file.type || 'n/a'}) - ${file.size} bytes, ` +\n",
       "        `last modified: ${\n",
       "            file.lastModifiedDate ? file.lastModifiedDate.toLocaleDateString() :\n",
       "                                    'n/a'} - `));\n",
       "    const percent = span('0% done');\n",
       "    li.appendChild(percent);\n",
       "\n",
       "    outputElement.appendChild(li);\n",
       "\n",
       "    const fileDataPromise = new Promise((resolve) => {\n",
       "      const reader = new FileReader();\n",
       "      reader.onload = (e) => {\n",
       "        resolve(e.target.result);\n",
       "      };\n",
       "      reader.readAsArrayBuffer(file);\n",
       "    });\n",
       "    // Wait for the data to be ready.\n",
       "    let fileData = yield {\n",
       "      promise: fileDataPromise,\n",
       "      response: {\n",
       "        action: 'continue',\n",
       "      }\n",
       "    };\n",
       "\n",
       "    // Use a chunked sending to avoid message size limits. See b/62115660.\n",
       "    let position = 0;\n",
       "    do {\n",
       "      const length = Math.min(fileData.byteLength - position, MAX_PAYLOAD_SIZE);\n",
       "      const chunk = new Uint8Array(fileData, position, length);\n",
       "      position += length;\n",
       "\n",
       "      const base64 = btoa(String.fromCharCode.apply(null, chunk));\n",
       "      yield {\n",
       "        response: {\n",
       "          action: 'append',\n",
       "          file: file.name,\n",
       "          data: base64,\n",
       "        },\n",
       "      };\n",
       "\n",
       "      let percentDone = fileData.byteLength === 0 ?\n",
       "          100 :\n",
       "          Math.round((position / fileData.byteLength) * 100);\n",
       "      percent.textContent = `${percentDone}% done`;\n",
       "\n",
       "    } while (position < fileData.byteLength);\n",
       "  }\n",
       "\n",
       "  // All done.\n",
       "  yield {\n",
       "    response: {\n",
       "      action: 'complete',\n",
       "    }\n",
       "  };\n",
       "}\n",
       "\n",
       "scope.google = scope.google || {};\n",
       "scope.google.colab = scope.google.colab || {};\n",
       "scope.google.colab._files = {\n",
       "  _uploadFiles,\n",
       "  _uploadFilesContinue,\n",
       "};\n",
       "})(self);\n",
       "</script> "
      ]
     },
     "metadata": {}
    },
    {
     "output_type": "stream",
     "name": "stdout",
     "text": [
      "Saving disclosure_2024.pdf to disclosure_2024.pdf\n",
      "Saving disclo2024_0.pdf to disclo2024_0.pdf\n",
      "Saving all.pdf to all.pdf\n",
      "Saving tamashin_disclo2024.pdf to tamashin_disclo2024.pdf\n",
      "Saving disclo24.pdf to disclo24.pdf\n",
      "アップロードされたPDF: ['/content/disclosure_2024.pdf', '/content/disclo2024_0.pdf', '/content/all.pdf', '/content/tamashin_disclo2024.pdf', '/content/disclo24.pdf']\n"
     ]
    }
   ],
   "source": [
    "uploaded = google.colab.files.upload()\n",
    "pdf_paths = [os.path.join('/content', name) for name in uploaded.keys()]\n",
    "print('アップロードされたPDF:', pdf_paths)"
   ],
   "id": "sDxx5lXCjDi7"
  },
  {
   "cell_type": "code",
   "execution_count": 4,
   "id": "1ffe402b",
   "metadata": {
    "lines_to_next_cell": 1,
    "id": "1ffe402b"
   },
   "outputs": [],
   "source": [
    "MODEL_NAME = \"gemini-2.5-flash-preview-05-20\""
   ]
  },
  {
   "cell_type": "code",
   "execution_count": 5,
   "id": "1679959e",
   "metadata": {
    "lines_to_next_cell": 1,
    "id": "1679959e"
   },
   "outputs": [],
   "source": [
    "class PDFMetadata(BaseModel):\n",
    "    \"\"\"PDFから抽出するメタデータ。貸借対照表と損益計算書の金額単位を別々に保持\"\"\"\n",
    "    company_name_japanese: str = Field(description=\"会社名（日本語）\")\n",
    "    company_name_english: Optional[str] = Field(default=None, description=\"会社名（英語）\")\n",
    "    balance_sheet_pages_1_indexed: List[int] = Field(description=\"貸借対照表ページ番号リスト\")\n",
    "    income_statement_pages_1_indexed: Optional[List[int]] = Field(default=None, description=\"損益計算書ページ番号リスト\")\n",
    "    estimated_balance_sheet_type: Optional[str] = Field(default=None, description=\"貸借対照表の種類推定\")\n",
    "    estimated_income_statement_type: Optional[str] = Field(default=None, description=\"損益計算書の種類推定\")\n",
    "    balance_sheet_amount_unit: int = Field(description=\"貸借対照表の金額単位。百万円なら1000000等\")\n",
    "    income_statement_amount_unit: Optional[int] = Field(default=None, description=\"損益計算書の金額単位。百万円なら1000000等\")\n"
   ]
  },
  {
   "cell_type": "code",
   "execution_count": 6,
   "id": "56e536ea",
   "metadata": {
    "lines_to_next_cell": 1,
    "id": "56e536ea"
   },
   "outputs": [],
   "source": [
    "class StatementItem(BaseModel):\n",
    "    name_japanese: str\n",
    "    name_english: str\n",
    "    value: Optional[Union[int, float]]\n",
    "    indent_level: int\n",
    "    children: List['StatementItem'] = Field(default_factory=list)"
   ]
  },
  {
   "cell_type": "code",
   "execution_count": 7,
   "id": "cf6f3fbc",
   "metadata": {
    "lines_to_next_cell": 1,
    "id": "cf6f3fbc"
   },
   "outputs": [],
   "source": [
    "# Pydantic v2 では update_forward_refs() の代わりに model_rebuild() を使用\n",
    "StatementItem.model_rebuild()"
   ]
  },
  {
   "cell_type": "code",
   "execution_count": 8,
   "id": "4aa6f291",
   "metadata": {
    "lines_to_next_cell": 1,
    "id": "4aa6f291"
   },
   "outputs": [],
   "source": [
    "class Section(BaseModel):\n",
    "    total_value: Optional[Union[int, float]] = None\n",
    "    items: List[StatementItem]"
   ]
  },
  {
   "cell_type": "code",
   "execution_count": 9,
   "id": "8752baed",
   "metadata": {
    "lines_to_next_cell": 1,
    "id": "8752baed"
   },
   "outputs": [],
   "source": [
    "class FiscalYearBalanceSheet(BaseModel):\n",
    "    end_date: date\n",
    "    description: Optional[str] = None\n",
    "    assets: Section\n",
    "    liabilities: Section\n",
    "    net_assets: Section"
   ]
  },
  {
   "cell_type": "code",
   "execution_count": 10,
   "id": "c7dc193c",
   "metadata": {
    "lines_to_next_cell": 1,
    "id": "c7dc193c"
   },
   "outputs": [],
   "source": [
    "class BalanceSheetBody(BaseModel):\n",
    "    fiscal_year_data: List[FiscalYearBalanceSheet]"
   ]
  },
  {
   "cell_type": "code",
   "execution_count": 11,
   "id": "c53980ad",
   "metadata": {
    "lines_to_next_cell": 1,
    "id": "c53980ad"
   },
   "outputs": [],
   "source": [
    "class BalanceSheetResponse(BaseModel):\n",
    "    balance_sheet: BalanceSheetBody"
   ]
  },
  {
   "cell_type": "code",
   "execution_count": 12,
   "id": "43f03763",
   "metadata": {
    "lines_to_next_cell": 1,
    "id": "43f03763"
   },
   "outputs": [],
   "source": [
    "class FiscalYearIncomeStatement(BaseModel):\n",
    "    end_date: date\n",
    "    description: Optional[str] = None\n",
    "    items: List[StatementItem]"
   ]
  },
  {
   "cell_type": "code",
   "execution_count": 13,
   "id": "6a5fc283",
   "metadata": {
    "lines_to_next_cell": 1,
    "id": "6a5fc283"
   },
   "outputs": [],
   "source": [
    "class IncomeStatementBody(BaseModel):\n",
    "    fiscal_year_data: List[FiscalYearIncomeStatement]"
   ]
  },
  {
   "cell_type": "code",
   "execution_count": 14,
   "id": "d219a4a3",
   "metadata": {
    "lines_to_next_cell": 1,
    "id": "d219a4a3"
   },
   "outputs": [],
   "source": [
    "class IncomeStatementResponse(BaseModel):\n",
    "    income_statement: IncomeStatementBody"
   ]
  },
  {
   "cell_type": "code",
   "execution_count": 15,
   "id": "ecd18785",
   "metadata": {
    "lines_to_next_cell": 1,
    "id": "ecd18785"
   },
   "outputs": [],
   "source": [
    "def upload_pdf_to_genai(pdf_file_path: str) -> Optional[genai.protos.FileData]:\n",
    "    try:\n",
    "        return genai.upload_file(pdf_file_path)\n",
    "    except Exception as e:\n",
    "        print(f\"PDFのアップロードに失敗しました: {e}\")\n",
    "        return None"
   ]
  },
  {
   "cell_type": "code",
   "execution_count": 16,
   "id": "417f4400",
   "metadata": {
    "lines_to_next_cell": 1,
    "id": "417f4400"
   },
   "outputs": [],
   "source": [
    "def extract_text_from_pdf_pypdf(pdf_file_path: str, pages_0_indexed: Optional[List[int]]) -> str:\n",
    "    try:\n",
    "        reader = PdfReader(pdf_file_path)\n",
    "        if pages_0_indexed is None:\n",
    "            pages = range(len(reader.pages))\n",
    "        else:\n",
    "            pages = pages_0_indexed\n",
    "        texts = [reader.pages[p].extract_text() or \"\" for p in pages]\n",
    "        return \"\\n\".join(texts)\n",
    "    except Exception as e:\n",
    "        print(f\"PDFテキスト抽出に失敗しました: {e}\")\n",
    "        return \"\""
   ]
  },
  {
   "cell_type": "code",
   "execution_count": 18,
   "id": "5fa811b2",
   "metadata": {
    "lines_to_next_cell": 1,
    "id": "5fa811b2"
   },
   "outputs": [],
   "source": [
    "def create_generative_content_parts_for_metadata(uploaded_pdf_file: genai.protos.FileData, pydantic_schema: dict) -> List[Union[str, genai.protos.FileData]]:\n",
    "    schema_json = json.dumps(pydantic_schema, ensure_ascii=False, indent=2)\n",
    "    instruction = (\"PDF から会社名、貸借対照表ページ、損益計算書ページ、表の種類、貸借対照表用の金額単位、損益計算書用の金額単位を抽出してください。出力はJSONのみで、スキーマは次の通りです:\\n\" + schema_json)\n",
    "    return [instruction, uploaded_pdf_file]"
   ]
  },
  {
   "cell_type": "code",
   "execution_count": 19,
   "id": "4bc6a75f",
   "metadata": {
    "lines_to_next_cell": 1,
    "id": "4bc6a75f"
   },
   "outputs": [],
   "source": [
    "def create_generative_content_parts_for_balance_sheet(uploaded_pdf_file: genai.protos.FileData, company_name_japanese: str, company_name_english: str, pydantic_schema: dict, auxiliary_pdf_text: Optional[str] = None) -> List[Union[str, genai.protos.FileData]]:\n",
    "    schema_json = json.dumps(pydantic_schema, ensure_ascii=False, indent=2)\n",
    "    instruction = f\"\"\"会社名「{company_name_japanese} ({company_name_english})」の単体貸借対照表を抽出し、次のJSONスキーマに従ってください:\\n{schema_json}\"\"\"\n",
    "    parts = [instruction, uploaded_pdf_file]\n",
    "    if auxiliary_pdf_text:\n",
    "        parts.append(\"\\n\\n### 補助テキスト:\\n\" + auxiliary_pdf_text)\n",
    "    return parts"
   ]
  },
  {
   "cell_type": "code",
   "execution_count": 20,
   "id": "bc693c94",
   "metadata": {
    "lines_to_next_cell": 1,
    "id": "bc693c94"
   },
   "outputs": [],
   "source": [
    "def create_generative_content_parts_for_income_statement(uploaded_pdf_file: genai.protos.FileData, company_name_japanese: str, company_name_english: str, pydantic_schema: dict, auxiliary_pdf_text: Optional[str] = None) -> List[Union[str, genai.protos.FileData]]:\n",
    "    schema_json = json.dumps(pydantic_schema, ensure_ascii=False, indent=2)\n",
    "    instruction = f\"\"\"会社名「{company_name_japanese} ({company_name_english})」の単体損益計算書を抽出し、次のJSONスキーマに従ってください:\\n{schema_json}\"\"\"\n",
    "    parts = [instruction, uploaded_pdf_file]\n",
    "    if auxiliary_pdf_text:\n",
    "        parts.append(\"\\n\\n### 補助テキスト:\\n\" + auxiliary_pdf_text)\n",
    "    return parts"
   ]
  },
  {
   "cell_type": "code",
   "execution_count": 21,
   "id": "adf8cf94",
   "metadata": {
    "lines_to_next_cell": 1,
    "id": "adf8cf94"
   },
   "outputs": [],
   "source": [
    "def call_llm_for_structured_output(content_parts: List[Union[str, genai.protos.FileData]], output_model: BaseModel) -> Optional[BaseModel]:\n",
    "    try:\n",
    "        model = genai.GenerativeModel(model_name=MODEL_NAME)\n",
    "        response = model.generate_content(\n",
    "            contents=content_parts,\n",
    "            generation_config=genai.GenerationConfig(\n",
    "                response_mime_type=\"application/json\",\n",
    "                temperature=0\n",
    "            ),\n",
    "            safety_settings={\n",
    "                'HARM_CATEGORY_HARASSMENT': 'BLOCK_NONE',\n",
    "                'HARM_CATEGORY_HATE_SPEECH': 'BLOCK_NONE',\n",
    "                'HARM_CATEGORY_SEXUALLY_EXPLICIT': 'BLOCK_NONE',\n",
    "                'HARM_CATEGORY_DANGEROUS_CONTENT': 'BLOCK_NONE',\n",
    "            }\n",
    "        )\n",
    "        text = response.text.strip()\n",
    "        if text.startswith(\"```json\") and text.endswith(\"```\"):\n",
    "            text = text[7:-3].strip()\n",
    "        data = json.loads(text)\n",
    "        return output_model.model_validate(data)\n",
    "    except (ValidationError, json.JSONDecodeError) as e:\n",
    "        print(\"LLM応答の解析に失敗しました\", e)\n",
    "        print(text)\n",
    "        return None\n",
    "    except Exception as e:\n",
    "        print(\"LLM呼び出しに失敗しました\", e)\n",
    "        return None"
   ]
  },
  {
   "cell_type": "code",
   "execution_count": 22,
   "id": "5ff7c93f",
   "metadata": {
    "lines_to_next_cell": 1,
    "id": "5ff7c93f"
   },
   "outputs": [],
   "source": [
    "def multiply_unit(items: List[StatementItem], amount_unit: int):\n",
    "    for it in items:\n",
    "        if it.value is not None:\n",
    "            it.value *= amount_unit\n",
    "        if it.children:\n",
    "            multiply_unit(it.children, amount_unit)"
   ]
  },
  {
   "cell_type": "code",
   "execution_count": 23,
   "id": "6d668a83",
   "metadata": {
    "lines_to_next_cell": 1,
    "id": "6d668a83"
   },
   "outputs": [],
   "source": [
    "def build_financial_rows(\n",
    "    balance_sheet_resp: BalanceSheetResponse,\n",
    "    income_statement_resp: IncomeStatementResponse,\n",
    "    company_name: str,\n",
    "    bs_unit: int,\n",
    "    pl_unit: int,\n",
    "    bs_pages: Optional[List[int]],\n",
    "    pl_pages: Optional[List[int]],\n",
    ") -> List[tuple]:\n",
    "    \"\"\"貸借対照表・損益計算書をCSV用の行リストに変換する\"\"\"\n",
    "    latest_bs = balance_sheet_resp.balance_sheet.fiscal_year_data[0]\n",
    "    latest_pl = income_statement_resp.income_statement.fiscal_year_data[0]\n",
    "\n",
    "    multiply_unit(latest_bs.assets.items, bs_unit)\n",
    "    multiply_unit(latest_bs.liabilities.items, bs_unit)\n",
    "    multiply_unit(latest_bs.net_assets.items, bs_unit)\n",
    "    multiply_unit(latest_pl.items, pl_unit)\n",
    "\n",
    "    bs_pages_str = ',' .join(str(p) for p in bs_pages) if bs_pages else ''\n",
    "    pl_pages_str = ',' .join(str(p) for p in pl_pages) if pl_pages else ''\n",
    "\n",
    "    rows: List[tuple] = []\n",
    "    rows.append(('金庫名', company_name))\n",
    "    rows.append(('決算期', latest_bs.end_date.strftime('%Y-%m-%d')))\n",
    "    rows.append(('貸借対照表記載ページ', bs_pages_str))\n",
    "    rows.append(('損益計算書記載ページ', pl_pages_str))\n",
    "\n",
    "    def flatten(items, dst):\n",
    "        for it in items:\n",
    "            dst.append((it.name_japanese, it.value if it.value is not None else ''))\n",
    "            if it.children:\n",
    "                flatten(it.children, dst)\n",
    "\n",
    "    rows.append(('-- 貸借対照表 --', ''))\n",
    "    if latest_bs.assets.total_value is not None:\n",
    "        rows.append(('資産合計', latest_bs.assets.total_value))\n",
    "    flatten(latest_bs.assets.items, rows)\n",
    "    if latest_bs.liabilities.total_value is not None:\n",
    "        rows.append(('負債合計', latest_bs.liabilities.total_value))\n",
    "    flatten(latest_bs.liabilities.items, rows)\n",
    "    if latest_bs.net_assets.total_value is not None:\n",
    "        rows.append(('純資産合計', latest_bs.net_assets.total_value))\n",
    "    flatten(latest_bs.net_assets.items, rows)\n",
    "\n",
    "    rows.append(('', ''))\n",
    "    rows.append(('-- 損益計算書 --', ''))\n",
    "    flatten(latest_pl.items, rows)\n",
    "    return rows\n"
   ]
  },
  {
   "cell_type": "code",
   "execution_count": 24,
   "id": "593ad6e2",
   "metadata": {
    "id": "593ad6e2"
   },
   "outputs": [],
   "source": [
    "def process_pdf(pdf_path: str) -> Optional[List[tuple]]:\n",
    "    \"\"\"PDF 1ファイルを処理し、CSV 行データのリストを返す\"\"\"\n",
    "    print(f'処理開始: {pdf_path}')\n",
    "    uploaded = upload_pdf_to_genai(pdf_path)\n",
    "    if not uploaded:\n",
    "        return None\n",
    "    schema_meta = PDFMetadata.model_json_schema()\n",
    "    meta_parts = create_generative_content_parts_for_metadata(uploaded, schema_meta)\n",
    "    metadata: Optional[PDFMetadata] = call_llm_for_structured_output(meta_parts, PDFMetadata)\n",
    "    try:\n",
    "        genai.delete_file(uploaded.name)\n",
    "    except Exception:\n",
    "        pass\n",
    "    if not metadata:\n",
    "        print('メタデータの取得に失敗しました')\n",
    "        return None\n",
    "\n",
    "    company_jp = metadata.company_name_japanese\n",
    "    company_en = metadata.company_name_english or company_jp\n",
    "    bs_unit = metadata.balance_sheet_amount_unit\n",
    "    pl_unit = metadata.income_statement_amount_unit or bs_unit\n",
    "\n",
    "    pages_bs_list = metadata.balance_sheet_pages_1_indexed or []\n",
    "    pages_pl_list = metadata.income_statement_pages_1_indexed or []\n",
    "\n",
    "    pages_bs = [p - 1 for p in pages_bs_list] if pages_bs_list else None\n",
    "    pages_pl = [p - 1 for p in pages_pl_list] if pages_pl_list else None\n",
    "\n",
    "    uploaded_bs = upload_pdf_to_genai(pdf_path)\n",
    "    aux_text_bs = extract_text_from_pdf_pypdf(pdf_path, pages_bs)\n",
    "    schema_bs = BalanceSheetResponse.model_json_schema()\n",
    "    parts_bs = create_generative_content_parts_for_balance_sheet(\n",
    "        uploaded_bs, company_jp, company_en, schema_bs, aux_text_bs\n",
    "    )\n",
    "    bs_resp: Optional[BalanceSheetResponse] = call_llm_for_structured_output(parts_bs, BalanceSheetResponse)\n",
    "    try:\n",
    "        genai.delete_file(uploaded_bs.name)\n",
    "    except Exception:\n",
    "        pass\n",
    "    if not bs_resp:\n",
    "        print('貸借対照表の取得に失敗しました')\n",
    "        return None\n",
    "\n",
    "    uploaded_pl = upload_pdf_to_genai(pdf_path)\n",
    "    aux_text_pl = extract_text_from_pdf_pypdf(pdf_path, pages_pl)\n",
    "    schema_pl = IncomeStatementResponse.model_json_schema()\n",
    "    parts_pl = create_generative_content_parts_for_income_statement(\n",
    "        uploaded_pl, company_jp, company_en, schema_pl, aux_text_pl\n",
    "    )\n",
    "    pl_resp: Optional[IncomeStatementResponse] = call_llm_for_structured_output(parts_pl, IncomeStatementResponse)\n",
    "    try:\n",
    "        genai.delete_file(uploaded_pl.name)\n",
    "    except Exception:\n",
    "        pass\n",
    "    if not pl_resp:\n",
    "        print('損益計算書の取得に失敗しました')\n",
    "        return None\n",
    "\n",
    "    rows = build_financial_rows(\n",
    "        bs_resp,\n",
    "        pl_resp,\n",
    "        company_jp,\n",
    "        bs_unit,\n",
    "        pl_unit,\n",
    "        pages_bs_list,\n",
    "        pages_pl_list,\n",
    "    )\n",
    "    return rows\n"
   ]
  },
  {
   "cell_type": "code",
   "execution_count": 25,
   "id": "30f8ebe0",
   "metadata": {
    "lines_to_next_cell": 1,
    "id": "30f8ebe0"
   },
   "outputs": [],
   "source": [
    "def main():\n",
    "    api_key = os.environ.get('GOOGLE_API_KEY')\n",
    "    if not api_key:\n",
    "        print('環境変数 GOOGLE_API_KEY を設定してください')\n",
    "        return\n",
    "    genai.configure(api_key=api_key)\n",
    "\n",
    "    if len(sys.argv) < 2:\n",
    "        print('PDFファイルを指定してください')\n",
    "        return\n",
    "    all_rows: List[tuple] = []\n",
    "    for pdf_path in sys.argv[1:]:\n",
    "        rows = process_pdf(pdf_path)\n",
    "        if rows:\n",
    "            if all_rows:\n",
    "                all_rows.append(('', ''))\n",
    "            all_rows.extend(rows)\n",
    "\n",
    "    if not all_rows:\n",
    "        print('処理結果がありません')\n",
    "        return\n",
    "\n",
    "    df = pd.DataFrame(all_rows, columns=['科目', '金額(円)'])\n",
    "    output_path = 'financials.csv'\n",
    "    df.to_csv(output_path, index=False, encoding='utf-8-sig')\n",
    "    print(f'CSVを保存しました: {output_path}')\n"
   ]
  },
  {
   "cell_type": "code",
   "metadata": {
    "colab": {
     "base_uri": "https://localhost:8080/",
     "height": 191
    },
    "id": "pJtuKWHVjDi_",
    "outputId": "dd83bd31-842d-45ce-948e-0c4a0152e181"
   },
   "source": [
    "all_rows = []\n",
    "for pdf in pdf_paths:\n",
    "    rows = process_pdf(pdf)\n",
    "    if rows:\n",
    "        if all_rows:\n",
    "            all_rows.append(('', ''))\n",
    "        all_rows.extend(rows)\n",
    "\n",
    "if all_rows:\n",
    "    df = pd.DataFrame(all_rows, columns=['科目', '金額(円)'])\n",
    "    df.to_csv('financials.csv', index=False, encoding='utf-8-sig')\n",
    "    print('CSVを保存しました: financials.csv')\n",
    "else:\n",
    "    print('処理結果がありません')\n"
   ],
   "execution_count": 26,
   "outputs": [
    {
     "output_type": "stream",
     "name": "stdout",
     "text": [
      "処理開始: /content/disclosure_2024.pdf\n",
      "CSVを保存しました: disclosure_2024.csv\n",
      "処理開始: /content/disclo2024_0.pdf\n",
      "CSVを保存しました: disclo2024_0.csv\n",
      "処理開始: /content/all.pdf\n",
      "CSVを保存しました: all.csv\n",
      "処理開始: /content/tamashin_disclo2024.pdf\n",
      "CSVを保存しました: tamashin_disclo2024.csv\n",
      "処理開始: /content/disclo24.pdf\n",
      "CSVを保存しました: disclo24.csv\n"
     ]
    }
   ],
   "id": "pJtuKWHVjDi_"
  },
  {
   "cell_type": "markdown",
   "metadata": {
    "id": "merge_financial_csv"
   },
   "source": [
    "### 複数のCSVを横に連結したい\n",
    "\n",
    "`merge_financials.py` は各信金向けに生成した `financials.csv` を、勘定科目を基準に外部結合して横並びに整形するスクリプトです。\n",
    "先頭4行のメタ情報を除いた 5 行目以降の `科目` と `金額(円)` を利用して結合します。\n",
    "\n",
    "```bash\n",
    "python merge_financials.py 信金A.csv 信金B.csv 信金C.csv\n",
    "```\n",
    "\n",
    "実行すると `merged_financials.csv` に1列目:勘定科目、2列目以降:金庫名を列見出しとした金額が並びます。\n",
    "科目が存在しない場合は自動的に空欄になります。\n"
   ]
  },
  {
   "cell_type": "code",
   "metadata": {
    "id": "merge_financial_example"
   },
   "source": [
    "!python merge_financials.py 信金A.csv 信金B.csv 信金C.csv"
   ],
   "execution_count": null,
   "outputs": []
  }
 ],
 "metadata": {
  "jupytext": {
   "cell_metadata_filter": "-all",
   "main_language": "python",
   "notebook_metadata_filter": "-all"
  },
  "colab": {
   "provenance": [],
   "include_colab_link": true
  },
  "language_info": {
   "name": "python"
  },
  "kernelspec": {
   "name": "python3",
   "display_name": "Python 3"
  }
 },
 "nbformat": 4,
 "nbformat_minor": 5
}