{
 "cells": [
  {
   "cell_type": "markdown",
   "metadata": {},
   "source": [
    "# 財務諸表抽出ノートブック\n",
    "このノートブックでは、Google Generative AI (Gemini) を用いてPDFから\n",
    "貸借対照表と損益計算書を抽出し、CSVとして保存する処理を解説付きで実行します。"
   ]
  },
  {
   "cell_type": "markdown",
   "metadata": {},
   "source": [
    "## 必要なライブラリのインストールとインポート\n",
    "Colab 環境では下記のようにライブラリをインストールしてから実行してください。"
   ]
  },
  {
   "cell_type": "code",
   "metadata": {},
   "source": [
    "!pip install -q google-genai pydantic pypdf pandas jupytext"
   ],
   "execution_count": null,
   "outputs": []
  },
  {
   "cell_type": "code",
   "metadata": {},
   "source": [
    "import os\n",
    "from google.colab import userdata\n",
    "import google.generativeai as genai\n",
    "\n",
    "api_key = userdata.get('GOOGLE_API_KEY')\n",
    "genai.configure(api_key=api_key)"
   ],
   "execution_count": null,
   "outputs": []
  },
  {
   "cell_type": "code",
   "execution_count": null,
   "id": "510e5e56",
   "metadata": {},
   "outputs": [],
   "source": [
    "import os\n",
    "import json\n",
    "import sys\n",
    "from datetime import date\n",
    "from typing import List, Optional, Union"
   ]
  },
  {
   "cell_type": "code",
   "execution_count": null,
   "id": "93872e32",
   "metadata": {},
   "outputs": [],
   "source": [
    "import google.generativeai as genai\n",
    "from pydantic import BaseModel, Field, ValidationError\n",
    "from pypdf import PdfReader\n",
    "import pandas as pd"
   ]
  },
  {
   "cell_type": "code",
   "execution_count": null,
   "id": "1ffe402b",
   "metadata": {
    "lines_to_next_cell": 1
   },
   "outputs": [],
   "source": [
    "MODEL_NAME = \"gemini-2.5-flash-preview-05-20\""
   ]
  },
  {
   "cell_type": "code",
   "execution_count": null,
   "id": "1679959e",
   "metadata": {
    "lines_to_next_cell": 1
   },
   "outputs": [],
   "source": [
    "class PDFMetadata(BaseModel):\n",
    "    \"\"\"PDFから抽出するメタデータ。貸借対照表と損益計算書の金額単位を別々に保持\"\"\"\n",
    "    company_name_japanese: str = Field(description=\"会社名（日本語）\")\n",
    "    company_name_english: Optional[str] = Field(default=None, description=\"会社名（英語）\")\n",
    "    balance_sheet_pages_1_indexed: List[int] = Field(description=\"貸借対照表ページ番号リスト\")\n",
    "    income_statement_pages_1_indexed: Optional[List[int]] = Field(default=None, description=\"損益計算書ページ番号リスト\")\n",
    "    estimated_balance_sheet_type: Optional[str] = Field(default=None, description=\"貸借対照表の種類推定\")\n",
    "    estimated_income_statement_type: Optional[str] = Field(default=None, description=\"損益計算書の種類推定\")\n",
    "    balance_sheet_amount_unit: int = Field(description=\"貸借対照表の金額単位。百万円なら1000000等\")\n",
    "    income_statement_amount_unit: Optional[int] = Field(default=None, description=\"損益計算書の金額単位。百万円なら1000000等\")\n"
   ]
  },
  {
   "cell_type": "code",
   "execution_count": null,
   "id": "56e536ea",
   "metadata": {
    "lines_to_next_cell": 1
   },
   "outputs": [],
   "source": [
    "class StatementItem(BaseModel):\n",
    "    name_japanese: str\n",
    "    name_english: str\n",
    "    value: Optional[Union[int, float]]\n",
    "    indent_level: int\n",
    "    children: List['StatementItem'] = Field(default_factory=list)"
   ]
  },
  {
   "cell_type": "code",
   "execution_count": null,
   "id": "cf6f3fbc",
   "metadata": {
    "lines_to_next_cell": 1
   },
   "outputs": [],
   "source": [
    "# Pydantic v2 では update_forward_refs() の代わりに model_rebuild() を使用\n",
    "StatementItem.model_rebuild()"
   ]
  },
  {
   "cell_type": "code",
   "execution_count": null,
   "id": "4aa6f291",
   "metadata": {
    "lines_to_next_cell": 1
   },
   "outputs": [],
   "source": [
    "class Section(BaseModel):\n",
    "    total_value: Optional[Union[int, float]] = None\n",
    "    items: List[StatementItem]"
   ]
  },
  {
   "cell_type": "code",
   "execution_count": null,
   "id": "8752baed",
   "metadata": {
    "lines_to_next_cell": 1
   },
   "outputs": [],
   "source": [
    "class FiscalYearBalanceSheet(BaseModel):\n",
    "    end_date: date\n",
    "    description: Optional[str] = None\n",
    "    assets: Section\n",
    "    liabilities: Section\n",
    "    net_assets: Section"
   ]
  },
  {
   "cell_type": "code",
   "execution_count": null,
   "id": "c7dc193c",
   "metadata": {
    "lines_to_next_cell": 1
   },
   "outputs": [],
   "source": [
    "class BalanceSheetBody(BaseModel):\n",
    "    fiscal_year_data: List[FiscalYearBalanceSheet]"
   ]
  },
  {
   "cell_type": "code",
   "execution_count": null,
   "id": "c53980ad",
   "metadata": {
    "lines_to_next_cell": 1
   },
   "outputs": [],
   "source": [
    "class BalanceSheetResponse(BaseModel):\n",
    "    balance_sheet: BalanceSheetBody"
   ]
  },
  {
   "cell_type": "code",
   "execution_count": null,
   "id": "43f03763",
   "metadata": {
    "lines_to_next_cell": 1
   },
   "outputs": [],
   "source": [
    "class FiscalYearIncomeStatement(BaseModel):\n",
    "    end_date: date\n",
    "    description: Optional[str] = None\n",
    "    items: List[StatementItem]"
   ]
  },
  {
   "cell_type": "code",
   "execution_count": null,
   "id": "6a5fc283",
   "metadata": {
    "lines_to_next_cell": 1
   },
   "outputs": [],
   "source": [
    "class IncomeStatementBody(BaseModel):\n",
    "    fiscal_year_data: List[FiscalYearIncomeStatement]"
   ]
  },
  {
   "cell_type": "code",
   "execution_count": null,
   "id": "d219a4a3",
   "metadata": {
    "lines_to_next_cell": 1
   },
   "outputs": [],
   "source": [
    "class IncomeStatementResponse(BaseModel):\n",
    "    income_statement: IncomeStatementBody"
   ]
  },
  {
   "cell_type": "code",
   "execution_count": null,
   "id": "ecd18785",
   "metadata": {
    "lines_to_next_cell": 1
   },
   "outputs": [],
   "source": [
    "def upload_pdf_to_genai(pdf_file_path: str) -> Optional[genai.protos.FileData]:\n",
    "    try:\n",
    "        return genai.upload_file(pdf_file_path)\n",
    "    except Exception as e:\n",
    "        print(f\"PDFのアップロードに失敗しました: {e}\")\n",
    "        return None"
   ]
  },
  {
   "cell_type": "code",
   "execution_count": null,
   "id": "417f4400",
   "metadata": {
    "lines_to_next_cell": 1
   },
   "outputs": [],
   "source": [
    "def extract_text_from_pdf_pypdf(pdf_file_path: str, pages_0_indexed: Optional[List[int]]) -> str:\n",
    "    try:\n",
    "        reader = PdfReader(pdf_file_path)\n",
    "        if pages_0_indexed is None:\n",
    "            pages = range(len(reader.pages))\n",
    "        else:\n",
    "            pages = pages_0_indexed\n",
    "        texts = [reader.pages[p].extract_text() or \"\" for p in pages]\n",
    "        return \"\\n\".join(texts)\n",
    "    except Exception as e:\n",
    "        print(f\"PDFテキスト抽出に失敗しました: {e}\")\n",
    "        return \"\""
   ]
  },
  {
   "cell_type": "code",
   "execution_count": null,
   "id": "5fa811b2",
   "metadata": {
    "lines_to_next_cell": 1
   },
   "outputs": [],
   "source": [
    "def create_generative_content_parts_for_metadata(uploaded_pdf_file: genai.protos.FileData, pydantic_schema: dict) -> List[Union[str, genai.protos.FileData]]:\n",
    "    schema_json = json.dumps(pydantic_schema, ensure_ascii=False, indent=2)\n",
    "    instruction = (\"PDF から会社名、貸借対照表ページ、損益計算書ページ、表の種類、貸借対照表用の金額単位、損益計算書用の金額単位を抽出してください。出力はJSONのみで、スキーマは次の通りです:\n\" + schema_json)\n",
    "    return [instruction, uploaded_pdf_file]"
   ]
  },
  {
   "cell_type": "code",
   "execution_count": null,
   "id": "4bc6a75f",
   "metadata": {
    "lines_to_next_cell": 1
   },
   "outputs": [],
   "source": [
    "def create_generative_content_parts_for_balance_sheet(uploaded_pdf_file: genai.protos.FileData, company_name_japanese: str, company_name_english: str, pydantic_schema: dict, auxiliary_pdf_text: Optional[str] = None) -> List[Union[str, genai.protos.FileData]]:\n",
    "    schema_json = json.dumps(pydantic_schema, ensure_ascii=False, indent=2)\n",
    "    instruction = f\"\"\"会社名「{company_name_japanese} ({company_name_english})」の単体貸借対照表を抽出し、次のJSONスキーマに従ってください:\\n{schema_json}\"\"\"\n",
    "    parts = [instruction, uploaded_pdf_file]\n",
    "    if auxiliary_pdf_text:\n",
    "        parts.append(\"\\n\\n### 補助テキスト:\\n\" + auxiliary_pdf_text)\n",
    "    return parts"
   ]
  },
  {
   "cell_type": "code",
   "execution_count": null,
   "id": "bc693c94",
   "metadata": {
    "lines_to_next_cell": 1
   },
   "outputs": [],
   "source": [
    "def create_generative_content_parts_for_income_statement(uploaded_pdf_file: genai.protos.FileData, company_name_japanese: str, company_name_english: str, pydantic_schema: dict, auxiliary_pdf_text: Optional[str] = None) -> List[Union[str, genai.protos.FileData]]:\n",
    "    schema_json = json.dumps(pydantic_schema, ensure_ascii=False, indent=2)\n",
    "    instruction = f\"\"\"会社名「{company_name_japanese} ({company_name_english})」の単体損益計算書を抽出し、次のJSONスキーマに従ってください:\\n{schema_json}\"\"\"\n",
    "    parts = [instruction, uploaded_pdf_file]\n",
    "    if auxiliary_pdf_text:\n",
    "        parts.append(\"\\n\\n### 補助テキスト:\\n\" + auxiliary_pdf_text)\n",
    "    return parts"
   ]
  },
  {
   "cell_type": "code",
   "execution_count": null,
   "id": "adf8cf94",
   "metadata": {
    "lines_to_next_cell": 1
   },
   "outputs": [],
   "source": [
    "def call_llm_for_structured_output(content_parts: List[Union[str, genai.protos.FileData]], output_model: BaseModel) -> Optional[BaseModel]:\n",
    "    try:\n",
    "        model = genai.GenerativeModel(model_name=MODEL_NAME)\n",
    "        response = model.generate_content(\n",
    "            contents=content_parts,\n",
    "            generation_config=genai.GenerationConfig(\n",
    "                response_mime_type=\"application/json\",\n",
    "                temperature=0\n",
    "            ),\n",
    "            safety_settings={\n",
    "                'HARM_CATEGORY_HARASSMENT': 'BLOCK_NONE',\n",
    "                'HARM_CATEGORY_HATE_SPEECH': 'BLOCK_NONE',\n",
    "                'HARM_CATEGORY_SEXUALLY_EXPLICIT': 'BLOCK_NONE',\n",
    "                'HARM_CATEGORY_DANGEROUS_CONTENT': 'BLOCK_NONE',\n",
    "            }\n",
    "        )\n",
    "        text = response.text.strip()\n",
    "        if text.startswith(\"```json\") and text.endswith(\"```\"):\n",
    "            text = text[7:-3].strip()\n",
    "        data = json.loads(text)\n",
    "        return output_model.model_validate(data)\n",
    "    except (ValidationError, json.JSONDecodeError) as e:\n",
    "        print(\"LLM応答の解析に失敗しました\", e)\n",
    "        print(text)\n",
    "        return None\n",
    "    except Exception as e:\n",
    "        print(\"LLM呼び出しに失敗しました\", e)\n",
    "        return None"
   ]
  },
  {
   "cell_type": "code",
   "execution_count": null,
   "id": "5ff7c93f",
   "metadata": {
    "lines_to_next_cell": 1
   },
   "outputs": [],
   "source": [
    "def multiply_unit(items: List[StatementItem], amount_unit: int):\n",
    "    for it in items:\n",
    "        if it.value is not None:\n",
    "            it.value *= amount_unit\n",
    "        if it.children:\n",
    "            multiply_unit(it.children, amount_unit)"
   ]
  },
  {
   "cell_type": "code",
   "execution_count": null,
   "id": "6d668a83",
   "metadata": {
    "lines_to_next_cell": 1
   },
   "outputs": [],
   "source": [
    "def export_financials_to_csv(balance_sheet_resp: BalanceSheetResponse, income_statement_resp: IncomeStatementResponse, company_name: str, bs_unit: int, pl_unit: int, output_path: str):\n",
    "    latest_bs = balance_sheet_resp.balance_sheet.fiscal_year_data[0]\n",
    "    latest_pl = income_statement_resp.income_statement.fiscal_year_data[0]\n",
    "\n",
    "    multiply_unit(latest_bs.assets.items, bs_unit)\n",
    "    multiply_unit(latest_bs.liabilities.items, bs_unit)\n",
    "    multiply_unit(latest_bs.net_assets.items, bs_unit)\n",
    "    multiply_unit(latest_pl.items, pl_unit)\n",
    "\n",
    "    rows = []\n",
    "    rows.append((\"\", company_name))\n",
    "    rows.append((\"\", latest_bs.end_date.strftime(\"%Y-%m-%d\")))\n",
    "\n",
    "    def flatten(items, dst):\n",
    "        for it in items:\n",
    "            dst.append((it.name_japanese, it.value if it.value is not None else \"\"))\n",
    "            if it.children:\n",
    "                flatten(it.children, dst)\n",
    "\n",
    "    rows.append((\"-- 貸借対照表 --\", \"\"))\n",
    "    flatten(latest_bs.assets.items, rows)\n",
    "    flatten(latest_bs.liabilities.items, rows)\n",
    "    flatten(latest_bs.net_assets.items, rows)\n",
    "\n",
    "    rows.append((\"\", \"\"))\n",
    "    rows.append((\"-- 損益計算書 --\", \"\"))\n",
    "    flatten(latest_pl.items, rows)\n",
    "\n",
    "    df = pd.DataFrame(rows, columns=[\"科目\", \"金額(円)\"])\n",
    "    df.to_csv(output_path, index=False, encoding=\"utf-8-sig\")\n",
    "    print(f\"CSVを保存しました: {output_path}\")"
   ]
  },
  {
   "cell_type": "code",
   "execution_count": null,
   "id": "593ad6e2",
   "metadata": {},
   "outputs": [],
   "source": [
    "def process_pdf(pdf_path: str):\n",
    "    print(f\"処理開始: {pdf_path}\")\n",
    "    uploaded = upload_pdf_to_genai(pdf_path)\n",
    "    if not uploaded:\n",
    "        return\n",
    "    schema_meta = PDFMetadata.model_json_schema()\n",
    "    meta_parts = create_generative_content_parts_for_metadata(uploaded, schema_meta)\n",
    "    metadata: Optional[PDFMetadata] = call_llm_for_structured_output(meta_parts, PDFMetadata)\n",
    "    try:\n",
    "        genai.delete_file(uploaded.name)\n",
    "    except Exception:\n",
    "        pass\n",
    "    if not metadata:\n",
    "        print(\"メタデータの取得に失敗しました\")\n",
    "        return\n",
    "\n",
    "    company_jp = metadata.company_name_japanese\n",
    "    company_en = metadata.company_name_english or company_jp\n",
    "    bs_unit = metadata.balance_sheet_amount_unit\n",
    "    pl_unit = metadata.income_statement_amount_unit or bs_unit\n",
    "\n",
    "    pages_bs = [p-1 for p in metadata.balance_sheet_pages_1_indexed] if metadata.balance_sheet_pages_1_indexed else None\n",
    "    pages_pl = [p-1 for p in metadata.income_statement_pages_1_indexed] if metadata.income_statement_pages_1_indexed else None\n",
    "\n",
    "    # Balance Sheet\n",
    "    uploaded_bs = upload_pdf_to_genai(pdf_path)\n",
    "    aux_text_bs = extract_text_from_pdf_pypdf(pdf_path, pages_bs)\n",
    "    schema_bs = BalanceSheetResponse.model_json_schema()\n",
    "    parts_bs = create_generative_content_parts_for_balance_sheet(uploaded_bs, company_jp, company_en, schema_bs, aux_text_bs)\n",
    "    bs_resp: Optional[BalanceSheetResponse] = call_llm_for_structured_output(parts_bs, BalanceSheetResponse)\n",
    "    try:\n",
    "        genai.delete_file(uploaded_bs.name)\n",
    "    except Exception:\n",
    "        pass\n",
    "    if not bs_resp:\n",
    "        print(\"貸借対照表の取得に失敗しました\")\n",
    "        return\n",
    "\n",
    "    # Income Statement\n",
    "    uploaded_pl = upload_pdf_to_genai(pdf_path)\n",
    "    aux_text_pl = extract_text_from_pdf_pypdf(pdf_path, pages_pl)\n",
    "    schema_pl = IncomeStatementResponse.model_json_schema()\n",
    "    parts_pl = create_generative_content_parts_for_income_statement(uploaded_pl, company_jp, company_en, schema_pl, aux_text_pl)\n",
    "    pl_resp: Optional[IncomeStatementResponse] = call_llm_for_structured_output(parts_pl, IncomeStatementResponse)\n",
    "    try:\n",
    "        genai.delete_file(uploaded_pl.name)\n",
    "    except Exception:\n",
    "        pass\n",
    "    if not pl_resp:\n",
    "        print(\"損益計算書の取得に失敗しました\")\n",
    "        return\n",
    "\n",
    "    output_csv = os.path.splitext(os.path.basename(pdf_path))[0] + \".csv\"\n",
    "    export_financials_to_csv(bs_resp, pl_resp, company_jp, bs_unit, pl_unit, output_csv)"
   ]
  },
  {
   "cell_type": "code",
   "execution_count": null,
   "id": "30f8ebe0",
   "metadata": {
    "lines_to_next_cell": 1
   },
   "outputs": [],
   "source": [
    "def main():\n",
    "    api_key = os.environ.get(\"GOOGLE_API_KEY\")\n",
    "    if not api_key:\n",
    "        print(\"環境変数 GOOGLE_API_KEY を設定してください\")\n",
    "        return\n",
    "    genai.configure(api_key=api_key)\n",
    "\n",
    "    if len(sys.argv) < 2:\n",
    "        print(\"PDFファイルを指定してください\")\n",
    "        return\n",
    "    for pdf_path in sys.argv[1:]:\n",
    "        process_pdf(pdf_path)"
   ]
  },
  {
   "cell_type": "code",
   "execution_count": null,
   "id": "b550e9aa",
   "metadata": {},
   "outputs": [],
   "source": [
    "if __name__ == \"__main__\":\n",
    "    main()"
   ]
  },
  {
   "cell_type": "markdown",
   "metadata": {},
   "source": [
    "## 実行方法\n",
    "下のセルで `main(['path/to/pdf1.pdf', 'path/to/pdf2.pdf'])` のようにファイルパスをリストで指定して実行します。"
   ]
  },
  {
   "cell_type": "code",
   "metadata": {},
   "source": [
    "pdf_list = ['sample1.pdf', 'sample2.pdf']\n",
    "for pdf in pdf_list:\n",
    "    process_pdf(pdf)"
   ],
   "execution_count": null,
   "outputs": []
  }
 ],
 "metadata": {
  "jupytext": {
   "cell_metadata_filter": "-all",
   "main_language": "python",
   "notebook_metadata_filter": "-all"
  }
 },
 "nbformat": 4,
 "nbformat_minor": 5
}
